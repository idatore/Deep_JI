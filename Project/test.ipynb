{
 "cells": [
  {
   "cell_type": "code",
   "execution_count": null,
   "metadata": {},
   "outputs": [],
   "source": [
    "# Import necessary modules\n",
    "import torch\n",
    "import torch.nn as nn\n",
    "from torch.utils.data import DataLoader\n",
    "import torchvision\n",
    "import matplotlib.pyplot as plt\n",
    "from tqdm import tqdm\n",
    "import numpy as np\n",
    "\n",
    "# Import the functions and classes defined in the utils file\n",
    "from utils import save_images, plot_tsne, create_dataloaders\n",
    "from model import AutoDecoder, AutoDecoderTrainer  # Assuming AutoDecoder and AutoDecoderTrainer are defined in a file called model.py\n",
    "\n",
    "# Set up the dataset and dataloaders\n",
    "train_ds, train_dl, test_ds, test_dl = create_dataloaders(batch_size=64)\n",
    "\n",
    "# Define the AutoDecoder model\n",
    "latent_dim = 128\n",
    "image_shape = (28, 28)\n",
    "out_channels = 1\n",
    "num_samples = len(train_ds)  # Adjust number of samples based on training data\n",
    "\n",
    "auto_decoder = AutoDecoder(latent_dim=latent_dim, image_shape=image_shape, out_channels=out_channels, num_samples=num_samples)\n",
    "\n",
    "# Initialize the trainer\n",
    "trainer = AutoDecoderTrainer(auto_decoder, train_dl, test_dl, device='cuda' if torch.cuda.is_available() else 'cpu')\n",
    "\n",
    "# Train the model for 10 epochs (or any desired number)\n",
    "trainer.train(num_epochs=10)\n",
    "\n",
    "# Evaluate the model\n",
    "trainer.evaluate()\n",
    "\n",
    "# Visualize reconstructions on the test set\n",
    "trainer.visualize_reconstructions()\n",
    "\n",
    "# Sample from the latent space and visualize the results\n",
    "trainer.sample_latent_space(n_samples=5)\n",
    "\n",
    "# Plot t-SNE of the latent space\n",
    "plot_tsne(train_ds, auto_decoder.latents, 'latent_space_tsne.png', plot_title=\"t-SNE of Latent Space\")\n"
   ]
  }
 ],
 "metadata": {
  "language_info": {
   "name": "python"
  }
 },
 "nbformat": 4,
 "nbformat_minor": 2
}
