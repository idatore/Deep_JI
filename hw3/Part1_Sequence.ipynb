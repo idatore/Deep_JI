{
 "cells": [
  {
   "cell_type": "markdown",
   "metadata": {},
   "source": [
    "$$\n",
    "\\newcommand{\\mat}[1]{\\boldsymbol {#1}}\n",
    "\\newcommand{\\mattr}[1]{\\boldsymbol {#1}^\\top}\n",
    "\\newcommand{\\matinv}[1]{\\boldsymbol {#1}^{-1}}\n",
    "\\newcommand{\\vec}[1]{\\boldsymbol {#1}}\n",
    "\\newcommand{\\vectr}[1]{\\boldsymbol {#1}^\\top}\n",
    "\\newcommand{\\rvar}[1]{\\mathrm {#1}}\n",
    "\\newcommand{\\rvec}[1]{\\boldsymbol{\\mathrm{#1}}}\n",
    "\\newcommand{\\diag}{\\mathop{\\mathrm {diag}}}\n",
    "\\newcommand{\\set}[1]{\\mathbb {#1}}\n",
    "\\newcommand{\\norm}[1]{\\left\\lVert#1\\right\\rVert}\n",
    "\\newcommand{\\pderiv}[2]{\\frac{\\partial #1}{\\partial #2}}\n",
    "\\newcommand{\\bb}[1]{\\boldsymbol{#1}}\n",
    "$$\n",
    "# Part 1: Sequence Models\n",
    "<a id=part1></a>"
   ]
  },
  {
   "cell_type": "markdown",
   "metadata": {},
   "source": [
    "In this part we will learn about working with text sequences using recurrent neural networks.\n",
    "We'll go from a raw text file all the way to a fully trained GRU-RNN model and generate works of art!"
   ]
  },
  {
   "cell_type": "code",
   "execution_count": 1,
   "metadata": {},
   "outputs": [],
   "source": [
    "import unittest\n",
    "import os\n",
    "import sys\n",
    "import pathlib\n",
    "import urllib\n",
    "import shutil\n",
    "import re\n",
    "\n",
    "import numpy as np\n",
    "import torch\n",
    "import matplotlib.pyplot as plt\n",
    "\n",
    "%load_ext autoreload\n",
    "%autoreload 2"
   ]
  },
  {
   "cell_type": "code",
   "execution_count": 2,
   "metadata": {},
   "outputs": [
    {
     "name": "stdout",
     "output_type": "stream",
     "text": [
      "Using device: cuda\n"
     ]
    }
   ],
   "source": [
    "test = unittest.TestCase()\n",
    "plt.rcParams.update({'font.size': 12})\n",
    "device = torch.device('cuda' if torch.cuda.is_available() else 'cpu')\n",
    "print('Using device:', device)"
   ]
  },
  {
   "cell_type": "markdown",
   "metadata": {},
   "source": [
    "## Text generation with a char-level RNN\n",
    "<a id=part1_1></a>"
   ]
  },
  {
   "cell_type": "markdown",
   "metadata": {},
   "source": [
    "### Obtaining the corpus\n",
    "<a id=part1_2></a>"
   ]
  },
  {
   "cell_type": "markdown",
   "metadata": {},
   "source": [
    "Let's begin by downloading a corpus containing all the works of William Shakespeare.\n",
    "Since he was very prolific, this corpus is fairly large and will provide us with enough data for\n",
    "obtaining impressive results."
   ]
  },
  {
   "cell_type": "code",
   "execution_count": 3,
   "metadata": {},
   "outputs": [
    {
     "name": "stdout",
     "output_type": "stream",
     "text": [
      "Corpus file /home/idan.menashe/.pytorch-datasets/shakespeare.txt exists, skipping download.\n"
     ]
    }
   ],
   "source": [
    "CORPUS_URL = 'https://github.com/cedricdeboom/character-level-rnn-datasets/raw/master/datasets/shakespeare.txt'\n",
    "DATA_DIR = pathlib.Path.home().joinpath('.pytorch-datasets')\n",
    "\n",
    "def download_corpus(out_path=DATA_DIR, url=CORPUS_URL, force=False):\n",
    "    pathlib.Path(out_path).mkdir(exist_ok=True)\n",
    "    out_filename = os.path.join(out_path, os.path.basename(url))\n",
    "    \n",
    "    if os.path.isfile(out_filename) and not force:\n",
    "        print(f'Corpus file {out_filename} exists, skipping download.')\n",
    "    else:\n",
    "        print(f'Downloading {url}...')\n",
    "        with urllib.request.urlopen(url) as response, open(out_filename, 'wb') as out_file:\n",
    "            shutil.copyfileobj(response, out_file)\n",
    "        print(f'Saved to {out_filename}.')\n",
    "    return out_filename\n",
    "    \n",
    "corpus_path = download_corpus()"
   ]
  },
  {
   "cell_type": "markdown",
   "metadata": {},
   "source": [
    "Load the text into memory and print a snippet:"
   ]
  },
  {
   "cell_type": "code",
   "execution_count": 4,
   "metadata": {},
   "outputs": [
    {
     "name": "stdout",
     "output_type": "stream",
     "text": [
      "Corpus length: 6347703 chars\n",
      "ALLS WELL THAT ENDS WELL\n",
      "\n",
      "by William Shakespeare\n",
      "\n",
      "Dramatis Personae\n",
      "\n",
      "  KING OF FRANCE\n",
      "  THE DUKE OF FLORENCE\n",
      "  BERTRAM, Count of Rousillon\n",
      "  LAFEU, an old lord\n",
      "  PAROLLES, a follower of Bertram\n",
      "  TWO FRENCH LORDS, serving with Bertram\n",
      "\n",
      "  STEWARD, Servant to the Countess of Rousillon\n",
      "  LAVACHE, a clown and Servant to the Countess of Rousillon\n",
      "  A PAGE, Servant to the Countess of Rousillon\n",
      "\n",
      "  COUNTESS OF ROUSILLON, mother to Bertram\n",
      "  HELENA, a gentlewoman protected by the Countess\n",
      "  A WIDOW OF FLORENCE.\n",
      "  DIANA, daughter to the Widow\n",
      "\n",
      "  VIOLENTA, neighbour and friend to the Widow\n",
      "  MARIANA, neighbour and friend to the Widow\n",
      "\n",
      "  Lords, Officers, Soldiers, etc., French and Florentine  \n",
      "\n",
      "SCENE:\n",
      "Rousillon; Paris; Florence; Marseilles\n",
      "\n",
      "ACT I. SCENE 1.\n",
      "Rousillon. The COUNT'S palace\n",
      "\n",
      "Enter BERTRAM, the COUNTESS OF ROUSILLON, HELENA, and LAFEU, all in black\n",
      "\n",
      "  COUNTESS. In delivering my son from me, I bury a second husband.\n",
      "  BERTRAM. And I in going, madam, weep o'er my father's death anew;\n",
      "    but I must attend his Majesty's command, to whom I am now in\n",
      "    ward, evermore in subjection.\n",
      "  LAFEU. You shall find of the King a husband, madam; you, sir, a\n",
      "    father. He that so generally is at all times good must of\n",
      "    \n"
     ]
    }
   ],
   "source": [
    "with open(corpus_path, 'r', encoding='utf-8') as f:\n",
    "    corpus = f.read()\n",
    "\n",
    "print(f'Corpus length: {len(corpus)} chars')\n",
    "print(corpus[7:1234])"
   ]
  },
  {
   "cell_type": "markdown",
   "metadata": {},
   "source": [
    "### Data Preprocessing\n",
    "<a id=part1_3></a>"
   ]
  },
  {
   "cell_type": "markdown",
   "metadata": {},
   "source": [
    "The first thing we'll need is to map from each unique character in the corpus to an index that will represent it in our learning process.\n",
    "\n",
    "**TODO**: Implement the `char_maps()` function in the `hw3/charnn.py` module."
   ]
  },
  {
   "cell_type": "code",
   "execution_count": 5,
   "metadata": {},
   "outputs": [
    {
     "name": "stdout",
     "output_type": "stream",
     "text": [
      "{'\\n': 0, ' ': 1, '!': 2, '\"': 3, '$': 4, '&': 5, \"'\": 6, '(': 7, ')': 8, ',': 9, '-': 10, '.': 11, '0': 12, '1': 13, '2': 14, '3': 15, '4': 16, '5': 17, '6': 18, '7': 19, '8': 20, '9': 21, ':': 22, ';': 23, '<': 24, '?': 25, 'A': 26, 'B': 27, 'C': 28, 'D': 29, 'E': 30, 'F': 31, 'G': 32, 'H': 33, 'I': 34, 'J': 35, 'K': 36, 'L': 37, 'M': 38, 'N': 39, 'O': 40, 'P': 41, 'Q': 42, 'R': 43, 'S': 44, 'T': 45, 'U': 46, 'V': 47, 'W': 48, 'X': 49, 'Y': 50, 'Z': 51, '[': 52, ']': 53, '_': 54, 'a': 55, 'b': 56, 'c': 57, 'd': 58, 'e': 59, 'f': 60, 'g': 61, 'h': 62, 'i': 63, 'j': 64, 'k': 65, 'l': 66, 'm': 67, 'n': 68, 'o': 69, 'p': 70, 'q': 71, 'r': 72, 's': 73, 't': 74, 'u': 75, 'v': 76, 'w': 77, 'x': 78, 'y': 79, 'z': 80, '}': 81, '\\ufeff': 82}\n"
     ]
    }
   ],
   "source": [
    "import hw3.charnn as charnn\n",
    "\n",
    "char_to_idx, idx_to_char = charnn.char_maps(corpus)\n",
    "print(char_to_idx)\n",
    "\n",
    "test.assertEqual(len(char_to_idx), len(idx_to_char))\n",
    "test.assertSequenceEqual(list(char_to_idx.keys()), list(idx_to_char.values()))\n",
    "test.assertSequenceEqual(list(char_to_idx.values()), list(idx_to_char.keys()))"
   ]
  },
  {
   "cell_type": "markdown",
   "metadata": {},
   "source": [
    "Seems we have some strange characters in the corpus that are very rare and are probably due to mistakes.\n",
    "To reduce the length of each tensor we'll need to later represent our chars, it's best to remove them.\n",
    "\n",
    "**TODO**: Implement the `remove_chars()` function in the `hw3/charnn.py` module."
   ]
  },
  {
   "cell_type": "code",
   "execution_count": 6,
   "metadata": {},
   "outputs": [
    {
     "name": "stdout",
     "output_type": "stream",
     "text": [
      "Removed 33 chars\n"
     ]
    }
   ],
   "source": [
    "corpus, n_removed = charnn.remove_chars(corpus, ['}','$','_','<','\\ufeff'])\n",
    "print(f'Removed {n_removed} chars')\n",
    "\n",
    "# After removing the chars, re-create the mappings\n",
    "char_to_idx, idx_to_char = charnn.char_maps(corpus)"
   ]
  },
  {
   "cell_type": "markdown",
   "metadata": {},
   "source": [
    "The next thing we need is an **embedding** of the chracters.\n",
    "An embedding is a representation of each token from the sequence as a tensor.\n",
    "For a char-level RNN, our tokens will be chars and we can thus use the simplest possible embedding: encode each char as a **one-hot** tensor. In other words, each char will be represented\n",
    "as a tensor whos length is the total number of unique chars (`V`) which contains all zeros except at the index\n",
    "corresponding to that specific char.\n",
    "\n",
    "**TODO**: Implement the functions `chars_to_onehot()` and `onehot_to_chars()` in the `hw3/charnn.py` module."
   ]
  },
  {
   "cell_type": "code",
   "execution_count": 7,
   "metadata": {},
   "outputs": [
    {
     "name": "stdout",
     "output_type": "stream",
     "text": [
      "brine a maiden can season her praise in.\n",
      "   \n",
      "tensor([[0, 0, 0, 0, 0, 0, 0, 0, 0, 0, 0, 0, 0, 0, 0, 0, 0, 0, 0, 0, 0, 0, 0, 0,\n",
      "         0, 0, 0, 0, 0, 0, 0, 0, 0, 0, 0, 0, 0, 0, 0, 0, 0, 0, 0, 0, 0, 0, 0, 0,\n",
      "         0, 0, 0, 0, 0, 0, 1, 0, 0, 0, 0, 0, 0, 0, 0, 0, 0, 0, 0, 0, 0, 0, 0, 0,\n",
      "         0, 0, 0, 0, 0, 0, 0],\n",
      "        [0, 0, 0, 0, 0, 0, 0, 0, 0, 0, 0, 0, 0, 0, 0, 0, 0, 0, 0, 0, 0, 0, 0, 0,\n",
      "         0, 0, 0, 0, 0, 0, 0, 0, 0, 0, 0, 0, 0, 0, 0, 0, 0, 0, 0, 0, 0, 0, 0, 0,\n",
      "         0, 0, 0, 0, 0, 0, 0, 0, 0, 0, 0, 0, 0, 0, 0, 0, 0, 0, 0, 0, 0, 0, 1, 0,\n",
      "         0, 0, 0, 0, 0, 0, 0],\n",
      "        [0, 0, 0, 0, 0, 0, 0, 0, 0, 0, 0, 0, 0, 0, 0, 0, 0, 0, 0, 0, 0, 0, 0, 0,\n",
      "         0, 0, 0, 0, 0, 0, 0, 0, 0, 0, 0, 0, 0, 0, 0, 0, 0, 0, 0, 0, 0, 0, 0, 0,\n",
      "         0, 0, 0, 0, 0, 0, 0, 0, 0, 0, 0, 0, 0, 1, 0, 0, 0, 0, 0, 0, 0, 0, 0, 0,\n",
      "         0, 0, 0, 0, 0, 0, 0]], dtype=torch.int8)\n"
     ]
    }
   ],
   "source": [
    "# Wrap the actual embedding functions for calling convenience\n",
    "def embed(text):\n",
    "    return charnn.chars_to_onehot(text, char_to_idx)\n",
    "\n",
    "def unembed(embedding):\n",
    "    return charnn.onehot_to_chars(embedding, idx_to_char)\n",
    "\n",
    "text_snippet = corpus[3104:3148]\n",
    "print(text_snippet)\n",
    "print(embed(text_snippet[0:3]))\n",
    "\n",
    "test.assertEqual(text_snippet, unembed(embed(text_snippet)))\n",
    "test.assertEqual(embed(text_snippet).dtype, torch.int8)"
   ]
  },
  {
   "cell_type": "markdown",
   "metadata": {},
   "source": [
    "### Dataset Creation\n",
    "<a id=part1_4></a>"
   ]
  },
  {
   "cell_type": "markdown",
   "metadata": {},
   "source": [
    "We wish to train our model to generate text by constantly predicting what the next char should be based on the past.\n",
    "To that end we'll need to train our recurrent network in a way similar to a classification task. At each timestep, we input a char and set the expected output (label) to be the next char in the original sequence.\n",
    "\n",
    "We will split our corpus into shorter sequences of length `S` chars (see question below).\n",
    "Each **sample** we provide our model with will therefore be a tensor of shape `(S,V)` where `V` is the embedding dimension. Our model will operate sequentially on each char in the sequence.\n",
    "For each sample, we'll also need a **label**. This is simply another sequence, shifted by one char so that the label of each char is the next char in the corpus."
   ]
  },
  {
   "cell_type": "markdown",
   "metadata": {},
   "source": [
    "**TODO**: Implement the `chars_to_labelled_samples()` function in the `hw3/charnn.py` module."
   ]
  },
  {
   "cell_type": "code",
   "execution_count": 8,
   "metadata": {},
   "outputs": [
    {
     "name": "stdout",
     "output_type": "stream",
     "text": [
      "samples shape: torch.Size([99182, 64, 79])\n",
      "labels shape: torch.Size([99182, 64])\n"
     ]
    }
   ],
   "source": [
    "# Create dataset of sequences\n",
    "seq_len = 64\n",
    "vocab_len = len(char_to_idx)\n",
    "\n",
    "# Create labelled samples\n",
    "samples, labels = charnn.chars_to_labelled_samples(corpus, char_to_idx, seq_len, device)\n",
    "print(f'samples shape: {samples.shape}')\n",
    "print(f'labels shape: {labels.shape}')\n",
    "\n",
    "# Test shapes\n",
    "num_samples = (len(corpus) - 1) // seq_len\n",
    "test.assertEqual(samples.shape, (num_samples, seq_len, vocab_len))\n",
    "test.assertEqual(labels.shape, (num_samples, seq_len))\n",
    "\n",
    "# Test content\n",
    "for _ in range(1000):\n",
    "    # random sample\n",
    "    i = np.random.randint(num_samples, size=(1,))[0]\n",
    "    # Compare to corpus\n",
    "    test.assertEqual(unembed(samples[i]), corpus[i*seq_len:(i+1)*seq_len], msg=f\"content mismatch in sample {i}\")\n",
    "    # Compare to labels\n",
    "    sample_text = unembed(samples[i])\n",
    "    label_text = str.join('', [idx_to_char[j.item()] for j in labels[i]])\n",
    "    test.assertEqual(sample_text[1:], label_text[0:-1], msg=f\"label mismatch in sample {i}\")"
   ]
  },
  {
   "cell_type": "markdown",
   "metadata": {},
   "source": [
    "Let's print a few consecutive samples. You should see that the text continues between them."
   ]
  },
  {
   "cell_type": "code",
   "execution_count": 9,
   "metadata": {},
   "outputs": [
    {
     "name": "stdout",
     "output_type": "stream",
     "text": [
      "sample [43300]:\n",
      "\tfrieze, Buttress, nor coign of vantage, but this bird H\n",
      "sample [43301]:\n",
      "\tath made his pendant bed and procreant cradle; Where they mo\n",
      "sample [43302]:\n",
      "\tst breed and haunt, I have observed The air is delicate.\n",
      "sample [43303]:\n",
      "\tEnter Lady Macbeth. DUNCAN. See, see, our\n",
      "sample [43304]:\n",
      "\thonor'd hostess! The love that follows us sometime is our tr\n"
     ]
    }
   ],
   "source": [
    "import re\n",
    "import random\n",
    "\n",
    "i = random.randrange(num_samples-5)\n",
    "for i in range(i, i+5):\n",
    "    test.assertEqual(len(samples[i]), seq_len)\n",
    "    s = re.sub(r'\\s+', ' ', unembed(samples[i])).strip()\n",
    "    print(f'sample [{i}]:\\n\\t{s}')"
   ]
  },
  {
   "cell_type": "markdown",
   "metadata": {},
   "source": [
    "As usual, instead of feeding one sample at a time into our model's forward we'll work with **batches** of samples. This means that at every timestep, our model will operate on a batch of chars that are from **different sequences**.\n",
    "Effectively this will allow us to parallelize training our model by dong matrix-matrix multiplications\n",
    "instead of matrix-vector during the forward pass."
   ]
  },
  {
   "cell_type": "markdown",
   "metadata": {},
   "source": [
    "An important nuance is that we need the batches to be **contiguous**, i.e. sample $k$ in batch $j$ should continue sample $k$ from batch $j-1$.\n",
    "The following figure illustrates this:\n",
    "\n",
    "<img src=\"imgs/rnn-batching.png\"/>\n",
    "\n",
    "If we naïvely take consecutive samples into batches, e.g. `[0,1,...,B-1]`, `[B,B+1,...,2B-1]` and so on, we won't have contiguous\n",
    "sequences at the same index between adjacent batches.\n",
    "\n",
    "To accomplish this we need to tell our `DataLoader` which samples to combine together into one batch.\n",
    "We do this by implementing a custom PyTorch `Sampler`, and providing it to our `DataLoader`."
   ]
  },
  {
   "cell_type": "markdown",
   "metadata": {},
   "source": [
    "**TODO**: Implement the `SequenceBatchSampler` class in the `hw3/charnn.py` module."
   ]
  },
  {
   "cell_type": "code",
   "execution_count": 10,
   "metadata": {},
   "outputs": [
    {
     "name": "stdout",
     "output_type": "stream",
     "text": [
      "sampler_idx =\n",
      " [0, 3, 6, 9, 12, 15, 18, 21, 24, 27, 1, 4, 7, 10, 13, 16, 19, 22, 25, 28, 2, 5, 8, 11, 14, 17, 20, 23, 26, 29]\n"
     ]
    }
   ],
   "source": [
    "from hw3.charnn import SequenceBatchSampler\n",
    "\n",
    "sampler = SequenceBatchSampler(dataset=range(32), batch_size=10)\n",
    "sampler_idx = list(sampler)\n",
    "print('sampler_idx =\\n', sampler_idx)\n",
    "\n",
    "# Test the Sampler\n",
    "test.assertEqual(len(sampler_idx), 30)\n",
    "batch_idx = np.array(sampler_idx).reshape(-1, 10)\n",
    "for k in range(10):\n",
    "    test.assertEqual(np.diff(batch_idx[:, k], n=2).item(), 0)"
   ]
  },
  {
   "cell_type": "markdown",
   "metadata": {},
   "source": [
    "Even though we're working with sequences, we can still use the standard PyTorch `Dataset`/`DataLoader` combo.\n",
    "For the dataset we can use a built-in class, `TensorDataset` to return tuples of `(sample, label)`\n",
    "from the `samples` and `labels` tensors we created above.\n",
    "The `DataLoader` will be provided with our custom `Sampler` so that it generates appropriate batches."
   ]
  },
  {
   "cell_type": "code",
   "execution_count": 11,
   "metadata": {},
   "outputs": [],
   "source": [
    "import torch.utils.data\n",
    "\n",
    "# Create DataLoader returning batches of samples.\n",
    "batch_size = 32\n",
    "\n",
    "ds_corpus = torch.utils.data.TensorDataset(samples, labels)\n",
    "sampler_corpus = SequenceBatchSampler(ds_corpus, batch_size)\n",
    "dl_corpus = torch.utils.data.DataLoader(ds_corpus, batch_size=batch_size, sampler=sampler_corpus, shuffle=False)"
   ]
  },
  {
   "cell_type": "markdown",
   "metadata": {},
   "source": [
    "Let's see what that gives us:"
   ]
  },
  {
   "cell_type": "code",
   "execution_count": 12,
   "metadata": {},
   "outputs": [
    {
     "name": "stdout",
     "output_type": "stream",
     "text": [
      "num batches: 3100\n",
      "shape of a batch of samples: torch.Size([32, 64, 79])\n",
      "shape of a batch of labels: torch.Size([32, 64])\n"
     ]
    }
   ],
   "source": [
    "print(f'num batches: {len(dl_corpus)}')\n",
    "\n",
    "x0, y0 = next(iter(dl_corpus))\n",
    "print(f'shape of a batch of samples: {x0.shape}')\n",
    "print(f'shape of a batch of labels: {y0.shape}')"
   ]
  },
  {
   "cell_type": "markdown",
   "metadata": {},
   "source": [
    "Now lets look at the same sample index from multiple batches taken from our corpus."
   ]
  },
  {
   "cell_type": "code",
   "execution_count": 13,
   "metadata": {},
   "outputs": [
    {
     "name": "stdout",
     "output_type": "stream",
     "text": [
      "=== batch 0, sample 9 (torch.Size([64, 79])): ===\n",
      "\tamain To signify that rebels there are up And put the En\n",
      "=== batch 1, sample 9 (torch.Size([64, 79])): ===\n",
      "\tglishmen unto the sword. Send succours, lords, and stop the\n",
      "=== batch 2, sample 9 (torch.Size([64, 79])): ===\n",
      "\trage betime, Before the wound do grow uncurable; For, be\n",
      "=== batch 3, sample 9 (torch.Size([64, 79])): ===\n",
      "\ting green, there is great hope of help. CARDINAL. A breach t\n",
      "=== batch 4, sample 9 (torch.Size([64, 79])): ===\n",
      "\that craves a quick expedient stop! What counsel give you in\n"
     ]
    }
   ],
   "source": [
    "# Check that sentences in in same index of different batches complete each other.\n",
    "k = random.randrange(batch_size)\n",
    "for j, (X, y) in enumerate(dl_corpus,):\n",
    "    print(f'=== batch {j}, sample {k} ({X[k].shape}): ===')\n",
    "    s = re.sub(r'\\s+', ' ', unembed(X[k])).strip()\n",
    "    print(f'\\t{s}')\n",
    "    if j==4: break"
   ]
  },
  {
   "cell_type": "markdown",
   "metadata": {},
   "source": [
    "### Model Implementation\n",
    "<a id=part1_5></a>"
   ]
  },
  {
   "cell_type": "markdown",
   "metadata": {},
   "source": [
    "Finally, our data set is ready so we can focus on our model.\n",
    "\n",
    "We'll implement here is a multilayer gated recurrent unit (GRU) model, with dropout.\n",
    "This model is a type of RNN which performs similar to the well-known LSTM model,\n",
    "but it's somewhat easier to train because it has less parameters.\n",
    "We'll modify the regular GRU slightly by applying dropout to\n",
    "the hidden states passed between layers of the model.\n",
    "\n",
    "The model accepts an input $\\mat{X}\\in\\set{R}^{S\\times V}$ containing a sequence of embedded chars.\n",
    "It returns an output $\\mat{Y}\\in\\set{R}^{S\\times V}$ of predictions for the next char and the final hidden state\n",
    "$\\mat{H}\\in\\set{R}^{L\\times H}$. Here $S$ is the sequence length, $V$ is the vocabulary size (number of unique chars), $L$ is the number of layers in the model and $H$ is the hidden dimension."
   ]
  },
  {
   "cell_type": "markdown",
   "metadata": {},
   "source": [
    "Mathematically, the model's forward function at layer $k\\in[1,L]$ and timestep $t\\in[1,S]$ can be described as\n",
    "\n",
    "$$\n",
    "\\begin{align}\n",
    "\\vec{z_t}^{[k]} &= \\sigma\\left(\\vec{x}^{[k]}_t {\\mattr{W}_{\\mathrm{xz}}}^{[k]} +\n",
    "    \\vec{h}_{t-1}^{[k]} {\\mattr{W}_{\\mathrm{hz}}}^{[k]} + \\vec{b}_{\\mathrm{z}}^{[k]}\\right) \\\\\n",
    "\\vec{r_t}^{[k]} &= \\sigma\\left(\\vec{x}^{[k]}_t {\\mattr{W}_{\\mathrm{xr}}}^{[k]} +\n",
    "    \\vec{h}_{t-1}^{[k]} {\\mattr{W}_{\\mathrm{hr}}}^{[k]} + \\vec{b}_{\\mathrm{r}}^{[k]}\\right) \\\\\n",
    "\\vec{g_t}^{[k]} &= \\tanh\\left(\\vec{x}^{[k]}_t {\\mattr{W}_{\\mathrm{xg}}}^{[k]} +\n",
    "    (\\vec{r_t}^{[k]}\\odot\\vec{h}_{t-1}^{[k]}) {\\mattr{W}_{\\mathrm{hg}}}^{[k]} + \\vec{b}_{\\mathrm{g}}^{[k]}\\right) \\\\\n",
    "\\vec{h_t}^{[k]} &= \\vec{z}^{[k]}_t \\odot \\vec{h}^{[k]}_{t-1} + \\left(1-\\vec{z}^{[k]}_t\\right)\\odot \\vec{g_t}^{[k]}\n",
    "\\end{align}\n",
    "$$"
   ]
  },
  {
   "cell_type": "markdown",
   "metadata": {},
   "source": [
    "The input to each layer is,\n",
    "$$\n",
    "\\mat{X}^{[k]} =\n",
    "\\begin{bmatrix}\n",
    "    {\\vec{x}_1}^{[k]} \\\\ \\vdots \\\\ {\\vec{x}_S}^{[k]}\n",
    "\\end{bmatrix} \n",
    "=\n",
    "\\begin{cases}\n",
    "    \\mat{X} & \\mathrm{if} ~k = 1~ \\\\\n",
    "    \\mathrm{dropout}_p \\left(\n",
    "    \\begin{bmatrix}\n",
    "        {\\vec{h}_1}^{[k-1]} \\\\ \\vdots \\\\ {\\vec{h}_S}^{[k-1]}\n",
    "    \\end{bmatrix} \\right) & \\mathrm{if} ~1 < k \\leq L+1~\n",
    "\\end{cases}.\n",
    "$$"
   ]
  },
  {
   "cell_type": "markdown",
   "metadata": {},
   "source": [
    "The output of the entire model is then,\n",
    "$$\n",
    "\\mat{Y} = \\mat{X}^{[L+1]} {\\mattr{W}_{\\mathrm{hy}}} + \\mat{B}_{\\mathrm{y}}\n",
    "$$"
   ]
  },
  {
   "cell_type": "markdown",
   "metadata": {},
   "source": [
    "and the final hidden state is\n",
    "$$\n",
    "\\mat{H} = \n",
    "\\begin{bmatrix}\n",
    "    {\\vec{h}_S}^{[1]} \\\\ \\vdots \\\\ {\\vec{h}_S}^{[L]}\n",
    "\\end{bmatrix}.\n",
    "$$"
   ]
  },
  {
   "cell_type": "markdown",
   "metadata": {},
   "source": [
    "Notes:\n",
    "- $t\\in[1,S]$ is the timestep, i.e. the current position within the sequence of each sample.\n",
    "- $\\vec{x}_t^{[k]}$ is the input of layer $k$ at timestep $t$, respectively.\n",
    "- The outputs of the **last layer** $\\vec{y}_t^{[L]}$, are the predicted next characters for every input char.\n",
    "  These are similar to class scores in classification tasks.\n",
    "- The hidden states at the **last timestep**, $\\vec{h}_S^{[k]}$, are the final hidden state returned from the model.\n",
    "- $\\sigma(\\cdot)$ is the sigmoid function, i.e. $\\sigma(\\vec{z}) = 1/(1+e^{-\\vec{z}})$ which returns values in $(0,1)$.\n",
    "- $\\tanh(\\cdot)$ is the hyperbolic tangent, i.e. $\\tanh(\\vec{z}) = (e^{2\\vec{z}}-1)/(e^{2\\vec{z}}+1)$ which returns values in $(-1,1)$.\n",
    "- $\\vec{h_t}^{[k]}$ is the hidden state of layer $k$ at time $t$. This can be thought of as the memory of that layer.\n",
    "- $\\vec{g_t}^{[k]}$ is the candidate hidden state for time $t+1$.\n",
    "- $\\vec{z_t}^{[k]}$ is known as the update gate. It combines the previous state with the input to determine how much the current state will be combined with the new candidate state. For example, if $\\vec{z_t}^{[k]}=\\vec{1}$ then the current input has no effect on the output.\n",
    "- $\\vec{r_t}^{[k]}$ is known as the reset gate. It combines the previous state with the input to determine how much of the previous state will affect the current state candidate. For example if $\\vec{r_t}^{[k]}=\\vec{0}$ the previous state has no effect on the current candidate state."
   ]
  },
  {
   "cell_type": "markdown",
   "metadata": {},
   "source": [
    "Here's a graphical representation of the GRU's forward pass at each timestep. The $\\vec{\\tilde{h}}$ in the image is our $\\vec{g}$ (candidate next state).\n",
    "\n",
    "<img src=\"imgs/gru_cell.png\" width=\"400\"/>\n",
    "\n",
    "You can see how the reset and update gates allow the model to completely ignore it's previous state, completely ignore it's input, or any mixture of those states (since the gates are actually continuous and between $(0,1)$)."
   ]
  },
  {
   "cell_type": "markdown",
   "metadata": {},
   "source": [
    "Here's a graphical representation of the entire model.\n",
    "You can ignore the $c_t^{[k]}$ (cell state) variables (which are relevant for LSTM models).\n",
    "Our model has only the hidden state, $h_t^{[k]}$. Also notice that we added dropout between layers (i.e., on the up arrows).\n",
    "\n",
    "<img src=\"imgs/lstm_model.png\" />\n",
    "\n",
    "The purple tensors are inputs (a sequence and initial hidden state per layer), and the green tensors are outputs (another sequence and final hidden state per layer). Each blue block implements the above forward equations.\n",
    "Blocks that are on the same vertical level are at the same layer, and therefore share parameters."
   ]
  },
  {
   "cell_type": "markdown",
   "metadata": {},
   "source": [
    "**TODO**:implement `MultilayerGRU` class in the `hw3/charnn.py` module.\n",
    "\n",
    "\n",
    "Notes:\n",
    "- We use **batches** now.\n",
    "  The math is identical to the above, but all the tensors will have an extra batch \n",
    "  dimension as their first dimension.\n",
    "- Before you read the implementation, read the diagram above, try to understand all the dimentions.\n"
   ]
  },
  {
   "cell_type": "code",
   "execution_count": 14,
   "metadata": {},
   "outputs": [
    {
     "name": "stdout",
     "output_type": "stream",
     "text": [
      "MultilayerGRU(\n",
      "  (layer_params): ModuleList(\n",
      "    (0): ModuleDict(\n",
      "      (wxz): Linear(in_features=79, out_features=256, bias=True)\n",
      "      (whz): Linear(in_features=256, out_features=256, bias=False)\n",
      "      (wxr): Linear(in_features=79, out_features=256, bias=True)\n",
      "      (whr): Linear(in_features=256, out_features=256, bias=False)\n",
      "      (wxg): Linear(in_features=79, out_features=256, bias=True)\n",
      "      (whg): Linear(in_features=256, out_features=256, bias=False)\n",
      "    )\n",
      "    (1): ModuleDict(\n",
      "      (wxz): Linear(in_features=256, out_features=256, bias=True)\n",
      "      (whz): Linear(in_features=256, out_features=256, bias=False)\n",
      "      (wxr): Linear(in_features=256, out_features=256, bias=True)\n",
      "      (whr): Linear(in_features=256, out_features=256, bias=False)\n",
      "      (wxg): Linear(in_features=256, out_features=256, bias=True)\n",
      "      (whg): Linear(in_features=256, out_features=256, bias=False)\n",
      "    )\n",
      "    (2): ModuleDict(\n",
      "      (wxz): Linear(in_features=256, out_features=256, bias=True)\n",
      "      (whz): Linear(in_features=256, out_features=256, bias=False)\n",
      "      (wxr): Linear(in_features=256, out_features=256, bias=True)\n",
      "      (whr): Linear(in_features=256, out_features=256, bias=False)\n",
      "      (wxg): Linear(in_features=256, out_features=256, bias=True)\n",
      "      (whg): Linear(in_features=256, out_features=256, bias=False)\n",
      "    )\n",
      "  )\n",
      "  (dropout): Identity()\n",
      "  (why): Linear(in_features=256, out_features=79, bias=True)\n",
      ")\n",
      "y.shape=torch.Size([32, 64, 79])\n",
      "h.shape=torch.Size([32, 3, 256])\n"
     ]
    }
   ],
   "source": [
    "in_dim = vocab_len\n",
    "h_dim = 256\n",
    "n_layers = 3\n",
    "model = charnn.MultilayerGRU(in_dim, h_dim, out_dim=in_dim, n_layers=n_layers)\n",
    "model = model.to(device)\n",
    "print(model)\n",
    "\n",
    "# Test forward pass\n",
    "y, h = model(x0.to(dtype=torch.float, device=device))\n",
    "print(f'y.shape={y.shape}')\n",
    "print(f'h.shape={h.shape}')\n",
    "\n",
    "test.assertEqual(y.shape, (batch_size, seq_len, vocab_len))\n",
    "test.assertEqual(h.shape, (batch_size, n_layers, h_dim))\n",
    "test.assertEqual(len(list(model.parameters())), 9 * n_layers + 2) "
   ]
  },
  {
   "cell_type": "markdown",
   "metadata": {},
   "source": [
    "### Generating text by sampling\n",
    "<a id=part1_6></a>"
   ]
  },
  {
   "cell_type": "markdown",
   "metadata": {},
   "source": [
    "Now that we have a model, we can implement **text generation** based on it.\n",
    "The idea is simple:\n",
    "At each timestep our model receives one char $x_t$ from the input sequence and outputs scores $y_t$\n",
    "for what the next char should be.\n",
    "We'll convert these scores into a probability over each of the possible chars.\n",
    "In other words, for each input char $x_t$ we create a probability distribution for the next char\n",
    "conditioned on the current one and the state of the model (representing all previous inputs):\n",
    "$$p(x_{t+1}|x_t, \\vec{h}_t).$$\n",
    "\n",
    "Once we have such a distribution, we'll sample a char from it.\n",
    "This will be the first char of our generated sequence.\n",
    "Now we can feed this new char into the model, create another distribution, sample the next char and so on.\n",
    "Note that it's crucial to propagate the hidden state when sampling."
   ]
  },
  {
   "cell_type": "markdown",
   "metadata": {},
   "source": [
    "The important point however is how to create the distribution from the scores.\n",
    "One way, as we saw in previous ML tasks, is to use the softmax function.\n",
    "However, a drawback of softmax is that it can generate very diffuse (more uniform) distributions if the score values are very similar. When sampling, we would prefer to control the distributions and make them less uniform to increase the chance of sampling the char(s) with the highest scores compared to the others.\n",
    "\n",
    "To control the variance of the distribution, a common trick is to add a hyperparameter $T$, known as the \n",
    "*temperature* to the softmax function. The class scores are simply scaled by $T$ before softmax is applied:\n",
    "$$\n",
    "\\mathrm{softmax}_T(\\vec{y}) = \\frac{e^{\\vec{y}/T}}{\\sum_k e^{y_k/T}}\n",
    "$$\n",
    "\n",
    "A low $T$ will result in less uniform distributions and vice-versa."
   ]
  },
  {
   "cell_type": "markdown",
   "metadata": {},
   "source": [
    "**TODO**: Implement the `hot_softmax()` function in the `hw3/charnn.py` module."
   ]
  },
  {
   "cell_type": "code",
   "execution_count": 15,
   "metadata": {},
   "outputs": [
    {
     "data": {
      "image/png": "[encoded data removed]",
      "text/plain": [
       "<Figure size 1500x500 with 1 Axes>"
      ]
     },
     "metadata": {},
     "output_type": "display_data"
    }
   ],
   "source": [
    "scores = y[0,0,:].detach()\n",
    "_, ax = plt.subplots(figsize=(15,5))\n",
    "\n",
    "for t in reversed([0.3, 0.5, 1.0, 100]):\n",
    "    ax.plot(charnn.hot_softmax(scores, temperature=t).cpu().numpy(), label=f'T={t}')\n",
    "ax.set_xlabel('$x_{t+1}$')\n",
    "ax.set_ylabel('$p(x_{t+1}|x_t)$')\n",
    "ax.legend()\n",
    "\n",
    "uniform_proba = 1/len(char_to_idx)\n",
    "uniform_diff = torch.abs(charnn.hot_softmax(scores, temperature=100) - uniform_proba)\n",
    "test.assertTrue(torch.all(uniform_diff < 1e-4))"
   ]
  },
  {
   "cell_type": "markdown",
   "metadata": {},
   "source": [
    "**TODO**: Implement the `generate_from_model()` function in the `hw3/charnn.py` module."
   ]
  },
  {
   "cell_type": "code",
   "execution_count": 16,
   "metadata": {},
   "outputs": [
    {
     "name": "stdout",
     "output_type": "stream",
     "text": [
      "foobarno9uzO;ON;L$p-MiP&HxA3g!DF0nb\n",
      "g$HV0I!cK;Ic.l\n",
      "foobarv:dfSswhk)bED'EbLXX2HON.,bN9'hxG;p3.awm]gNWM\n",
      "foobarNeGzVY\"5(J[\n",
      "[whr,6.U1DZ64o98\n",
      "1qhk(2?TwRpiSi6\n"
     ]
    }
   ],
   "source": [
    "for _ in range(3):\n",
    "    text = charnn.generate_from_model(model, \"foobar\", 50, (char_to_idx, idx_to_char), T=0.5)\n",
    "    print(text)\n",
    "    test.assertEqual(len(text), 50)"
   ]
  },
  {
   "cell_type": "markdown",
   "metadata": {},
   "source": [
    "### Training\n",
    "<a id=part1_7></a>"
   ]
  },
  {
   "cell_type": "markdown",
   "metadata": {},
   "source": [
    "To train this model, we'll calculate the loss at each time step by comparing the predicted char to\n",
    "the actual char from our label. We can use cross entropy since per char it's similar to a classification problem.\n",
    "We'll then sum the losses over the sequence and back-propagate the gradients though time.\n",
    "Notice that the back-propagation algorithm will \"visit\" each layer's parameter tensors multiple times,\n",
    "so we'll accumulate gradients in parameters of the blocks. Luckily `autograd` will handle this part for us."
   ]
  },
  {
   "cell_type": "markdown",
   "metadata": {},
   "source": [
    "As usual, the first step of training will be to try and **overfit** a large model (many parameters) to a tiny dataset.\n",
    "Again, this is to ensure the model and training code are implemented correctly, i.e. that the model can learn.\n",
    "\n",
    "For a generative model such as this, overfitting is slightly trickier than for classification.\n",
    "What we'll aim to do is to get our model to **memorize** a specific sequence of chars, so that when given the first\n",
    "char in the sequence it will immediately spit out the rest of the sequence verbatim.\n",
    "\n",
    "Let's create a tiny dataset to memorize."
   ]
  },
  {
   "cell_type": "code",
   "execution_count": 17,
   "metadata": {},
   "outputs": [
    {
     "name": "stdout",
     "output_type": "stream",
     "text": [
      "Text to \"memorize\":\n",
      "\n",
      "TRAM. What would you have?\n",
      "  HELENA. Something; and scarce so much; nothing, indeed.\n",
      "    I would not tell you what I would, my lord.\n",
      "    Faith, yes:\n",
      "    Strangers and foes do sunder and not kiss.\n",
      "  BERTRAM. I pray you, stay not, but in haste to horse.\n",
      "  HE\n"
     ]
    }
   ],
   "source": [
    "# Pick a tiny subset of the dataset\n",
    "subset_start, subset_end = 1001, 1005\n",
    "ds_corpus_ss = torch.utils.data.Subset(ds_corpus, range(subset_start, subset_end))\n",
    "batch_size_ss = 1\n",
    "sampler_ss = SequenceBatchSampler(ds_corpus_ss, batch_size=batch_size_ss)\n",
    "dl_corpus_ss = torch.utils.data.DataLoader(ds_corpus_ss, batch_size_ss, sampler=sampler_ss, shuffle=False)\n",
    "\n",
    "# Convert subset to text\n",
    "subset_text = ''\n",
    "for i in range(subset_end - subset_start):\n",
    "    subset_text += unembed(ds_corpus_ss[i][0])\n",
    "print(f'Text to \"memorize\":\\n\\n{subset_text}')"
   ]
  },
  {
   "cell_type": "markdown",
   "metadata": {},
   "source": [
    "Now let's implement the first part of our training code.\n",
    "\n",
    "**TODO**: Implement the `train_epoch()` and `train_batch()` methods of the `RNNTrainer` class in the `hw3/training.py` module. \n",
    "You must think about how to correctly handle the hidden state of the model between batches and epochs for this specific task (i.e. text generation)."
   ]
  },
  {
   "cell_type": "code",
   "execution_count": 18,
   "metadata": {},
   "outputs": [
    {
     "name": "stdout",
     "output_type": "stream",
     "text": [
      "\n",
      "Epoch #1: Avg. loss = 3.916, Accuracy = 17.58%\n",
      "T                                                                                                                                                                                                                                                               \n",
      "\n",
      "Epoch #25: Avg. loss = 0.041, Accuracy = 99.61%\n",
      "TRAM. What would you have?\n",
      "  HELENA. Something; and scarce so much; nothing, indeed.\n",
      "    I would not tell you what I would, my lord.\n",
      "    Faith, yes:\n",
      "    Strangers and foes do sunder and not kiss.\n",
      "  BERTRAM. I pray you, stay not, but in haste to horse.\n",
      "  HE\n"
     ]
    }
   ],
   "source": [
    "import torch.nn as nn\n",
    "import torch.optim as optim\n",
    "from hw3.training import RNNTrainer\n",
    "\n",
    "torch.manual_seed(42)\n",
    "\n",
    "lr = 0.01\n",
    "num_epochs = 500\n",
    "\n",
    "in_dim = vocab_len\n",
    "h_dim = 128\n",
    "n_layers = 2\n",
    "loss_fn = nn.CrossEntropyLoss()\n",
    "model = charnn.MultilayerGRU(in_dim, h_dim, out_dim=in_dim, n_layers=n_layers).to(device)\n",
    "optimizer = optim.Adam(model.parameters(), lr=lr)\n",
    "trainer = RNNTrainer(model, loss_fn, optimizer, device)\n",
    "\n",
    "for epoch in range(num_epochs):\n",
    "    epoch_result = trainer.train_epoch(dl_corpus_ss, verbose=False)\n",
    "    \n",
    "    # Every X epochs, we'll generate a sequence starting from the first char in the first sequence\n",
    "    # to visualize how/if/what the model is learning.\n",
    "    if epoch == 0 or (epoch+1) % 25 == 0:\n",
    "        avg_loss = np.mean(epoch_result.losses)\n",
    "        accuracy = np.mean(epoch_result.accuracy)\n",
    "        print(f'\\nEpoch #{epoch+1}: Avg. loss = {avg_loss:.3f}, Accuracy = {accuracy:.2f}%')\n",
    "        \n",
    "        generated_sequence = charnn.generate_from_model(model, subset_text[0],\n",
    "                                                        seq_len*(subset_end-subset_start),\n",
    "                                                        (char_to_idx,idx_to_char), T=0.1)\n",
    "        \n",
    "        # Stop if we've successfully memorized the small dataset.\n",
    "        print(generated_sequence)\n",
    "        if generated_sequence == subset_text:\n",
    "            break\n",
    "\n",
    "# Test successful overfitting\n",
    "test.assertGreater(epoch_result.accuracy, 99)\n",
    "test.assertEqual(generated_sequence, subset_text)"
   ]
  },
  {
   "cell_type": "markdown",
   "metadata": {},
   "source": [
    "OK, so training works - we can memorize a short sequence.\n",
    "We'll now train a much larger model on our large dataset. You'll need a GPU for this part.\n",
    "\n",
    "First, lets set up our dataset and models for training.\n",
    "We'll split our corpus into 90% train and 10% test-set.\n",
    "Also, we'll use a learning-rate scheduler to control the learning rate during training."
   ]
  },
  {
   "cell_type": "markdown",
   "metadata": {},
   "source": [
    "**TODO**: Set the hyperparameters in the `part1_rnn_hyperparams()` function of the `hw3/answers.py` module."
   ]
  },
  {
   "cell_type": "code",
   "execution_count": 37,
   "metadata": {},
   "outputs": [
    {
     "name": "stdout",
     "output_type": "stream",
     "text": [
      "hyperparams:\n",
      " {'batch_size': 256, 'seq_len': 25, 'h_dim': 256, 'n_layers': 3, 'dropout': 0.1, 'learn_rate': 0.002, 'lr_sched_factor': 0.1, 'lr_sched_patience': 3}\n",
      "Train: 892 batches, 5708800 chars\n",
      "Test:   99 batches,  633600 chars\n"
     ]
    }
   ],
   "source": [
    "from hw3.answers import part1_rnn_hyperparams\n",
    "\n",
    "hp = part1_rnn_hyperparams()\n",
    "print('hyperparams:\\n', hp)\n",
    "\n",
    "### Dataset definition\n",
    "vocab_len = len(char_to_idx)\n",
    "batch_size = hp['batch_size']\n",
    "seq_len = hp['seq_len']\n",
    "train_test_ratio = 0.9\n",
    "num_samples = (len(corpus) - 1) // seq_len\n",
    "num_train = int(train_test_ratio * num_samples)\n",
    "\n",
    "samples, labels = charnn.chars_to_labelled_samples(corpus, char_to_idx, seq_len, device)\n",
    "\n",
    "ds_train = torch.utils.data.TensorDataset(samples[:num_train], labels[:num_train])\n",
    "sampler_train = SequenceBatchSampler(ds_train, batch_size)\n",
    "dl_train = torch.utils.data.DataLoader(ds_train, batch_size, shuffle=False, sampler=sampler_train, drop_last=True)\n",
    "\n",
    "ds_test = torch.utils.data.TensorDataset(samples[num_train:], labels[num_train:])\n",
    "sampler_test = SequenceBatchSampler(ds_test, batch_size)\n",
    "dl_test = torch.utils.data.DataLoader(ds_test, batch_size, shuffle=False, sampler=sampler_test, drop_last=True)\n",
    "\n",
    "print(f'Train: {len(dl_train):3d} batches, {len(dl_train)*batch_size*seq_len:7d} chars')\n",
    "print(f'Test:  {len(dl_test):3d} batches, {len(dl_test)*batch_size*seq_len:7d} chars')\n",
    "\n",
    "### Training definition\n",
    "in_dim = out_dim = vocab_len\n",
    "checkpoint_file = 'checkpoints/rnn'\n",
    "num_epochs = 50\n",
    "early_stopping = 5\n",
    "\n",
    "model = charnn.MultilayerGRU(in_dim, hp['h_dim'], out_dim, hp['n_layers'], hp['dropout'])\n",
    "loss_fn = nn.CrossEntropyLoss()\n",
    "optimizer = optim.Adam(model.parameters(), lr=hp['learn_rate'])\n",
    "scheduler = optim.lr_scheduler.ReduceLROnPlateau(\n",
    "    optimizer, mode='max', factor=hp['lr_sched_factor'], patience=hp['lr_sched_patience'], verbose=True\n",
    ")\n",
    "trainer = RNNTrainer(model, loss_fn, optimizer, device)"
   ]
  },
  {
   "cell_type": "markdown",
   "metadata": {},
   "source": [
    "The code blocks below will train the model and save checkpoints containing the training state and the best model parameters to a file. This allows you to stop training and resume it later from where you left.\n",
    "\n",
    "Note that you can use the `main.py` script provided within the assignment folder to run this notebook from the command line as if it were a python script by using the `run-nb` subcommand. This allows you to train your model using this notebook without starting jupyter. You can combine this with `srun` or `sbatch` to run the notebook with a GPU on the course servers."
   ]
  },
  {
   "cell_type": "markdown",
   "metadata": {},
   "source": [
    "**TODO**:\n",
    "- Implement the `fit()` method of the `Trainer` class. You can reuse the relevant implementation parts from HW2, but make sure to implement early stopping and checkpoints.\n",
    "- Implement the `test_epoch()` and `test_batch()` methods of the `RNNTrainer` class in the `hw3/training.py` module.\n",
    "- Run the following block to train.\n",
    "- When training is done and you're satisfied with the model's outputs, rename the checkpoint file to `checkpoints/rnn_final.pt`.\n",
    "  This will cause the block to skip training and instead load your saved model when running the homework submission script.\n",
    "  Note that your submission zip file will not include the checkpoint file. This is OK."
   ]
  },
  {
   "cell_type": "code",
   "execution_count": 38,
   "metadata": {},
   "outputs": [
    {
     "name": "stdout",
     "output_type": "stream",
     "text": [
      "ACT I.\"W:h,dek$Yzi0p5frLZIGki8C,?);4k'OuyRvbh5(f5ZijktehEvSaiokN.m5cACIBNb5]IGh;UzoNoq8EQck'\"XMTK9Hk\n",
      "--- EPOCH 1/50 ---\n",
      "train_batch (Avg. Loss 1.768, Accuracy 49.2): 100%|██████████| 892/892 [01:18<00:00, 11.36it/s]\n",
      "test_batch (Avg. Loss 1.766, Accuracy 48.2): 100%|██████████| 99/99 [00:02<00:00, 34.50it/s]\n",
      "*** Saved checkpoint checkpoints/rnn.pt at epoch 1\n",
      "ACT I. SCENE I.\n",
      "A thing of the stronger and so from the more to the world.\n",
      "\n",
      "                        \n",
      "--- EPOCH 2/50 ---\n",
      "train_batch (Avg. Loss 1.385, Accuracy 58.3): 100%|██████████| 892/892 [01:18<00:00, 11.33it/s]\n",
      "test_batch (Avg. Loss 1.691, Accuracy 50.3): 100%|██████████| 99/99 [00:02<00:00, 34.37it/s]\n",
      "*** Saved checkpoint checkpoints/rnn.pt at epoch 2\n",
      "ACT I.\n",
      "  PAULINA. I am not be so brow the same of the fool of the more than a shoot\n",
      "    the son of m\n",
      "--- EPOCH 3/50 ---\n",
      "train_batch (Avg. Loss 1.323, Accuracy 59.9): 100%|██████████| 892/892 [01:17<00:00, 11.57it/s]\n",
      "test_batch (Avg. Loss 1.670, Accuracy 50.4): 100%|██████████| 99/99 [00:02<00:00, 34.45it/s]\n",
      "*** Saved checkpoint checkpoints/rnn.pt at epoch 3\n",
      "ACT I.\n",
      "A man with a consul and so for the field of me and so made\n",
      "    The strange of the proper of t\n",
      "--- EPOCH 4/50 ---\n",
      "train_batch (Avg. Loss 1.294, Accuracy 60.6): 100%|██████████| 892/892 [01:17<00:00, 11.55it/s]\n",
      "test_batch (Avg. Loss 1.659, Accuracy 50.8): 100%|██████████| 99/99 [00:02<00:00, 35.25it/s]\n",
      "*** Saved checkpoint checkpoints/rnn.pt at epoch 4\n",
      "ACT I. SCENE 1.\n",
      "\n",
      "                                                                                   \n",
      "--- EPOCH 5/50 ---\n",
      "train_batch (Avg. Loss 1.277, Accuracy 61.0): 100%|██████████| 892/892 [01:17<00:00, 11.50it/s]\n",
      "test_batch (Avg. Loss 1.646, Accuracy 51.4): 100%|██████████| 99/99 [00:02<00:00, 34.38it/s]\n",
      "*** Saved checkpoint checkpoints/rnn.pt at epoch 5\n",
      "ACT I.\n",
      "A posting of the Duke of York.\n",
      "\n",
      "                                                             \n",
      "--- EPOCH 6/50 ---\n",
      "train_batch (Avg. Loss 1.266, Accuracy 61.3): 100%|██████████| 892/892 [01:17<00:00, 11.57it/s]\n",
      "test_batch (Avg. Loss 1.638, Accuracy 51.4): 100%|██████████| 99/99 [00:02<00:00, 35.10it/s]\n",
      "*** Saved checkpoint checkpoints/rnn.pt at epoch 6\n",
      "ACT I.\n",
      "\n",
      "                                                                                            \n",
      "--- EPOCH 7/50 ---\n",
      "train_batch (Avg. Loss 1.257, Accuracy 61.5): 100%|██████████| 892/892 [01:17<00:00, 11.56it/s]\n",
      "test_batch (Avg. Loss 1.650, Accuracy 51.6): 100%|██████████| 99/99 [00:02<00:00, 35.04it/s]\n",
      "*** Saved checkpoint checkpoints/rnn.pt at epoch 7\n",
      "ACT I.\n",
      "ANTIPHOLUS OF SYRACUSE. What says he is a man that have some more than the heavens of the hou\n",
      "--- EPOCH 8/50 ---\n",
      "train_batch (Avg. Loss 1.250, Accuracy 61.7): 100%|██████████| 892/892 [01:18<00:00, 11.37it/s]\n",
      "test_batch (Avg. Loss 1.641, Accuracy 51.9): 100%|██████████| 99/99 [00:02<00:00, 34.41it/s]\n",
      "*** Saved checkpoint checkpoints/rnn.pt at epoch 8\n",
      "ACT I. Sirrah to Britain before the King of England, and the standing of the good more of his beard.\n",
      "--- EPOCH 9/50 ---\n",
      "train_batch (Avg. Loss 1.244, Accuracy 61.8): 100%|██████████| 892/892 [01:17<00:00, 11.57it/s]\n",
      "test_batch (Avg. Loss 1.637, Accuracy 51.9): 100%|██████████| 99/99 [00:02<00:00, 35.17it/s]\n",
      "*** Saved checkpoint checkpoints/rnn.pt at epoch 9\n",
      "ACT I.\n",
      "A prince of the sea of the trumpets\n",
      "                                                         \n",
      "--- EPOCH 10/50 ---\n",
      "train_batch (Avg. Loss 1.240, Accuracy 61.9): 100%|██████████| 892/892 [01:17<00:00, 11.56it/s]\n",
      "test_batch (Avg. Loss 1.633, Accuracy 51.9): 100%|██████████| 99/99 [00:02<00:00, 34.99it/s]\n",
      "*** Saved checkpoint checkpoints/rnn.pt at epoch 10\n",
      "ACT I.\n",
      "                                                                                             \n",
      "--- EPOCH 11/50 ---\n",
      "train_batch (Avg. Loss 1.236, Accuracy 62.0): 100%|██████████| 892/892 [01:17<00:00, 11.54it/s]\n",
      "test_batch (Avg. Loss 1.632, Accuracy 52.2): 100%|██████████| 99/99 [00:02<00:00, 34.48it/s]\n",
      "*** Saved checkpoint checkpoints/rnn.pt at epoch 11\n",
      "ACT I.\n",
      "                                                                                             \n",
      "--- EPOCH 12/50 ---\n",
      "train_batch (Avg. Loss 1.232, Accuracy 62.1): 100%|██████████| 892/892 [01:17<00:00, 11.56it/s]\n",
      "test_batch (Avg. Loss 1.643, Accuracy 51.8): 100%|██████████| 99/99 [00:02<00:00, 35.23it/s]\n",
      "ACT I.\n",
      "                                                                                             \n",
      "--- EPOCH 13/50 ---\n",
      "train_batch (Avg. Loss 1.229, Accuracy 62.2): 100%|██████████| 892/892 [01:16<00:00, 11.59it/s]\n",
      "test_batch (Avg. Loss 1.650, Accuracy 51.7): 100%|██████████| 99/99 [00:02<00:00, 34.81it/s]\n",
      "ACT I.\n",
      "                                                                                             \n",
      "--- EPOCH 14/50 ---\n",
      "train_batch (Avg. Loss 1.226, Accuracy 62.3): 100%|██████████| 892/892 [01:17<00:00, 11.53it/s]\n",
      "test_batch (Avg. Loss 1.632, Accuracy 52.0): 100%|██████████| 99/99 [00:02<00:00, 34.63it/s]\n",
      "ACT I.\n",
      "A country of the death of men.\n",
      "\n",
      "DUKE OF YORK:\n",
      "I will not be a man that hath been the man hath\n",
      "--- EPOCH 15/50 ---\n",
      "train_batch (Avg. Loss 1.224, Accuracy 62.3): 100%|██████████| 892/892 [01:17<00:00, 11.54it/s]\n",
      "test_batch (Avg. Loss 1.625, Accuracy 51.5): 100%|██████████| 99/99 [00:02<00:00, 35.03it/s]\n",
      "Epoch    15: reducing learning rate of group 0 to 2.0000e-04.\n",
      "ACT I.\n",
      "                                                                                             \n",
      "--- EPOCH 16/50 ---\n",
      "train_batch (Avg. Loss 1.194, Accuracy 63.1): 100%|██████████| 892/892 [01:17<00:00, 11.53it/s]\n",
      "test_batch (Avg. Loss 1.594, Accuracy 52.7): 100%|██████████| 99/99 [00:02<00:00, 35.04it/s]\n",
      "*** Saved checkpoint checkpoints/rnn.pt at epoch 16\n",
      "ACT I.\n",
      "                                                                                             \n",
      "--- EPOCH 17/50 ---\n",
      "train_batch (Avg. Loss 1.184, Accuracy 63.3): 100%|██████████| 892/892 [01:17<00:00, 11.56it/s]\n",
      "test_batch (Avg. Loss 1.592, Accuracy 52.7): 100%|██████████| 99/99 [00:02<00:00, 34.87it/s]\n",
      "*** Saved checkpoint checkpoints/rnn.pt at epoch 17\n",
      "ACT I.\n",
      "                                                                                             \n",
      "--- EPOCH 18/50 ---\n",
      "train_batch (Avg. Loss 1.179, Accuracy 63.4): 100%|██████████| 892/892 [01:16<00:00, 11.59it/s]\n",
      "test_batch (Avg. Loss 1.582, Accuracy 52.9): 100%|██████████| 99/99 [00:02<00:00, 33.74it/s]\n",
      "*** Saved checkpoint checkpoints/rnn.pt at epoch 18\n",
      "ACT I.\n",
      "                                                                                  Exeunt all \n",
      "--- EPOCH 19/50 ---\n",
      "train_batch (Avg. Loss 1.177, Accuracy 63.5): 100%|██████████| 892/892 [01:17<00:00, 11.58it/s]\n",
      "test_batch (Avg. Loss 1.584, Accuracy 52.9): 100%|██████████| 99/99 [00:02<00:00, 33.90it/s]\n",
      "*** Saved checkpoint checkpoints/rnn.pt at epoch 19\n",
      "ACT I.\n",
      "                                                                        Exeunt all but ANTONY\n",
      "--- EPOCH 20/50 ---\n",
      "train_batch (Avg. Loss 1.175, Accuracy 63.6): 100%|██████████| 892/892 [01:17<00:00, 11.54it/s]\n",
      "test_batch (Avg. Loss 1.584, Accuracy 52.9): 100%|██████████| 99/99 [00:02<00:00, 34.56it/s]\n",
      "ACT I.\n",
      "                                                                   Exeunt.\n",
      "\n",
      "SCENE II.\n",
      "A stree\n",
      "--- EPOCH 21/50 ---\n",
      "train_batch (Avg. Loss 1.173, Accuracy 63.6): 100%|██████████| 892/892 [01:17<00:00, 11.52it/s]\n",
      "test_batch (Avg. Loss 1.581, Accuracy 52.9): 100%|██████████| 99/99 [00:02<00:00, 35.02it/s]\n",
      "*** Saved checkpoint checkpoints/rnn.pt at epoch 21\n",
      "ACT I.\n",
      "                                                                                             \n",
      "--- EPOCH 22/50 ---\n",
      "train_batch (Avg. Loss 1.171, Accuracy 63.7): 100%|██████████| 892/892 [01:18<00:00, 11.30it/s]\n",
      "test_batch (Avg. Loss 1.581, Accuracy 53.0): 100%|██████████| 99/99 [00:02<00:00, 33.66it/s]\n",
      "*** Saved checkpoint checkpoints/rnn.pt at epoch 22\n",
      "ACT I.\n",
      "                                                                    Exeunt all but BARDOLPH\n",
      "\n",
      "\n",
      "--- EPOCH 23/50 ---\n",
      "train_batch (Avg. Loss 1.170, Accuracy 63.7): 100%|██████████| 892/892 [01:20<00:00, 11.12it/s]\n",
      "test_batch (Avg. Loss 1.579, Accuracy 53.0): 100%|██████████| 99/99 [00:02<00:00, 33.63it/s]\n",
      "*** Saved checkpoint checkpoints/rnn.pt at epoch 23\n",
      "ACT I.\n",
      "                                                                                  Exeunt all \n",
      "--- EPOCH 24/50 ---\n",
      "train_batch (Avg. Loss 1.169, Accuracy 63.7): 100%|██████████| 892/892 [01:20<00:00, 11.12it/s]\n",
      "test_batch (Avg. Loss 1.579, Accuracy 53.1): 100%|██████████| 99/99 [00:02<00:00, 33.70it/s]\n",
      "*** Saved checkpoint checkpoints/rnn.pt at epoch 24\n",
      "ACT I.\n",
      "                                                                               Enter a SERVAN\n",
      "--- EPOCH 25/50 ---\n",
      "train_batch (Avg. Loss 1.168, Accuracy 63.8): 100%|██████████| 892/892 [01:20<00:00, 11.13it/s]\n",
      "test_batch (Avg. Loss 1.578, Accuracy 53.0): 100%|██████████| 99/99 [00:02<00:00, 33.33it/s]\n",
      "ACT I.\n",
      "                                                                                       Exit C\n",
      "--- EPOCH 26/50 ---\n",
      "train_batch (Avg. Loss 1.167, Accuracy 63.8): 100%|██████████| 892/892 [01:20<00:00, 11.14it/s]\n",
      "test_batch (Avg. Loss 1.576, Accuracy 53.2): 100%|██████████| 99/99 [00:02<00:00, 33.47it/s]\n",
      "*** Saved checkpoint checkpoints/rnn.pt at epoch 26\n",
      "ACT I.\n",
      "                                                                             Exeunt all but G\n",
      "--- EPOCH 27/50 ---\n",
      "train_batch (Avg. Loss 1.166, Accuracy 63.8): 100%|██████████| 892/892 [01:20<00:00, 11.11it/s]\n",
      "test_batch (Avg. Loss 1.579, Accuracy 53.1): 100%|██████████| 99/99 [00:02<00:00, 33.27it/s]\n",
      "ACT I.\n",
      "                                                                              Exit SIR TOBY\n",
      "\n",
      "\n",
      "--- EPOCH 28/50 ---\n",
      "train_batch (Avg. Loss 1.165, Accuracy 63.8): 100%|██████████| 892/892 [01:20<00:00, 11.08it/s]\n",
      "test_batch (Avg. Loss 1.578, Accuracy 53.0): 100%|██████████| 99/99 [00:02<00:00, 33.44it/s]\n",
      "ACT I.\n",
      "                                                                                       Exeunt\n",
      "--- EPOCH 29/50 ---\n",
      "train_batch (Avg. Loss 1.164, Accuracy 63.8): 100%|██████████| 892/892 [01:18<00:00, 11.36it/s]\n",
      "test_batch (Avg. Loss 1.575, Accuracy 53.1): 100%|██████████| 99/99 [00:02<00:00, 34.22it/s]\n",
      "ACT I.\n",
      "                                                                                          Exe\n",
      "--- EPOCH 30/50 ---\n",
      "train_batch (Avg. Loss 1.163, Accuracy 63.9): 100%|██████████| 892/892 [01:17<00:00, 11.49it/s]\n",
      "test_batch (Avg. Loss 1.572, Accuracy 53.1): 100%|██████████| 99/99 [00:02<00:00, 34.76it/s]\n",
      "Epoch    30: reducing learning rate of group 0 to 2.0000e-05.\n",
      "ACT I.\n",
      "                                                                                             \n",
      "--- EPOCH 31/50 ---\n",
      "train_batch (Avg. Loss 1.160, Accuracy 64.0): 100%|██████████| 892/892 [01:17<00:00, 11.44it/s]\n",
      "test_batch (Avg. Loss 1.575, Accuracy 53.2): 100%|██████████| 99/99 [00:02<00:00, 33.78it/s]\n"
     ]
    },
    {
     "data": {
      "image/png": "[encoded data removed]",
      "text/plain": [
       "<Figure size 1600x1000 with 4 Axes>"
      ]
     },
     "metadata": {},
     "output_type": "display_data"
    }
   ],
   "source": [
    "from cs236781.plot import plot_fit\n",
    "\n",
    "def post_epoch_fn(epoch, train_res, test_res, verbose):\n",
    "    # Update learning rate\n",
    "    scheduler.step(test_res.accuracy)\n",
    "    # Sample from model to show progress\n",
    "    if verbose:\n",
    "        start_seq = \"ACT I.\"\n",
    "        generated_sequence = charnn.generate_from_model(\n",
    "            model, start_seq, 100, (char_to_idx,idx_to_char), T=0.5\n",
    "        )\n",
    "        print(generated_sequence)\n",
    "\n",
    "# Train, unless final checkpoint is found\n",
    "checkpoint_file_final = f'{checkpoint_file}_final.pt'\n",
    "if os.path.isfile(checkpoint_file_final):\n",
    "    print(f'*** Loading final checkpoint file {checkpoint_file_final} instead of training')\n",
    "    saved_state = torch.load(checkpoint_file_final, map_location=device)\n",
    "    model.load_state_dict(saved_state['model_state'])\n",
    "else:\n",
    "    try:\n",
    "        # Print pre-training sampling\n",
    "        print(charnn.generate_from_model(model, \"ACT I.\", 100, (char_to_idx,idx_to_char), T=0.5))\n",
    "\n",
    "        fit_res = trainer.fit(dl_train, dl_test, num_epochs, max_batches=None,\n",
    "                              post_epoch_fn=post_epoch_fn, early_stopping=early_stopping,\n",
    "                              checkpoints=checkpoint_file, print_every=1)\n",
    "        \n",
    "        fig, axes = plot_fit(fit_res)\n",
    "    except KeyboardInterrupt as e:\n",
    "        print('\\n *** Training interrupted by user')"
   ]
  },
  {
   "cell_type": "markdown",
   "metadata": {},
   "source": [
    "### Generating a work of art\n",
    "<a id=part1_8></a>"
   ]
  },
  {
   "cell_type": "markdown",
   "metadata": {},
   "source": [
    "Armed with our fully trained model, let's generate the next Hamlet! You should experiment with modifying the sampling temperature and see what happens.\n",
    "\n",
    "The text you generate should “look” like a Shakespeare play:\n",
    "old-style English words and sentence structure, directions for the actors\n",
    "(like “Exit/Enter”), sections (Act I/Scene III) etc.\n",
    "There will be no coherent plot of course, but it should at least seem like\n",
    "a Shakespearean play when not looking too closely.\n",
    "If this is not what you see, go back, debug and/or and re-train.\n",
    "\n",
    "**TODO**: Specify the generation parameters in the `part1_generation_params()` function within the `hw3/answers.py` module."
   ]
  },
  {
   "cell_type": "code",
   "execution_count": 39,
   "metadata": {},
   "outputs": [
    {
     "name": "stdout",
     "output_type": "stream",
     "text": [
      "Act I:\n",
      "The streets of the world that thou hast stood all the stronger than the court\n",
      "As thou didst bear it on the state of the morning.\n",
      "\n",
      "BUCKINGHAM:\n",
      "What says the chain, and there is a man of the world?\n",
      "\n",
      "KING RICHARD III:\n",
      "So much as the people will be so strange that he would not be so much to have the street\n",
      "That we are strange to the streets of a beard of the world.\n",
      "\n",
      "BUCKINGHAM:\n",
      "I have the street of the body of the sea of men.\n",
      "\n",
      "KING RICHARD III:\n",
      "Then the sea of my soul is the army of the world\n",
      "Which I have seen the state of the sea of the state of storms\n",
      "And the more contrived that we have been a courtesy.\n",
      "\n",
      "MENENIUS:\n",
      "What says the man that will be a word?\n",
      "\n",
      "GLOUCESTER:\n",
      "He is a strange thing.\n",
      "\n",
      "BRUTUS:\n",
      "I do not know thee to the court.\n",
      "\n",
      "KING RICHARD III:\n",
      "And what a strange service of the world\n",
      "And so did stand upon the sea?\n",
      "\n",
      "CORIOLANUS:\n",
      "I have been the son of the world that was a stranger\n",
      "Than the sun of the people of the present seat,\n",
      "And the most strong present property of the court.\n",
      "\n",
      "KING RICHARD III:\n",
      "What says the street?\n",
      "\n",
      "KING RICHARD III:\n",
      "Say that I have been too strange to hear the company.\n",
      "\n",
      "KING RICHARD III:\n",
      "And therefore he shall be a son of the field.\n",
      "\n",
      "GLOUCESTER:\n",
      "The world is this to see the sun of the world\n",
      "And he shall see the beast of men that bears the streets\n",
      "That should be so much as the state of this conscience that we shall be so\n",
      "    be as the former than the seas of the world,\n",
      "And the most strange of the single world,\n",
      "And therefore be the people and his body\n",
      "And such a soldier than the state of his wife.\n",
      "\n",
      "MENENIUS:\n",
      "What is the matter?\n",
      "\n",
      "CORIOLANUS:\n",
      "As the state of the world I will not see thee straight.\n",
      "\n",
      "MENENIUS:\n",
      "What says the court?\n",
      "\n",
      "CORIOLANUS:\n",
      "What says the court?\n",
      "\n",
      "MENENIUS:\n",
      "What says the man that hath been like the court?\n",
      "\n",
      "QUEEN ELIZABETH:\n",
      "The world is not to see the present property.\n",
      "\n",
      "KING RICHARD III:\n",
      "A fair proper son, and so much for the cause of the conscience,\n",
      "That the sun of the heavens are too strange than the sight\n",
      "And with the state of this blood of the world:\n",
      "What should I be a word to see thee here?\n",
      "\n",
      "KING RICHARD III:\n",
      "What news is the most father?\n",
      "\n",
      "CORIOLANUS:\n",
      "I will not be so good to thee,\n",
      "That they will prove the common part of the state\n",
      "To have the people to the world that he is dead.\n",
      "\n",
      "QUEEN ELIZABETH:\n",
      "The part of the man that will not be so dear as they shall be a careless spirit\n",
      "I would not have the world in the air with the state\n",
      "To any thought of this contrary and common state,\n",
      "And then the court of the world be so strange that they were all the world.\n",
      "\n",
      "GLOUCESTER:\n",
      "I will not speak to thee, sir, and the man is the good son of the world\n",
      "And all the sun of this and bravely done,\n",
      "The state of the world was but a state to prove the prisoner.\n",
      "\n",
      "KING RICHARD III:\n",
      "Say there the like and see the same that would see her the more\n",
      "That I will see the streets of the presence of the world.\n",
      "\n",
      "SICINIUS:\n",
      "What would you have the proper boy?\n",
      "\n",
      "GLOUCESTER:\n",
      "What is the matter?\n",
      "\n",
      "CORIOLANUS:\n",
      "I do not know thee all.\n",
      "\n",
      "KING RICHARD III:\n",
      "The world they say to the content.\n",
      "\n",
      "GLOUCESTER:\n",
      "What is the matter?\n",
      "\n",
      "KING RICHARD III:\n",
      "Say there is not the matter of the streets of mine own body.\n",
      "\n",
      "LADY ANNE:\n",
      "The contents of the streets of the sea of mine own beauty,\n",
      "And he would see the streets of the state of the court,\n",
      "Which we are so all that the streets of heaven,\n",
      "And the peril of the world, and the devil there in the contempt\n",
      "And then the trumpets sound the streets of the state,\n",
      "And the which he shall be contented to the court.\n",
      "\n",
      "BUCKINGHAM:\n",
      "What shall I say?\n",
      "\n",
      "KING RICHARD II:\n",
      "What would you show the state of the hand of the world?\n",
      "\n",
      "CORIOLANUS:\n",
      "What wouldst thou stand upon thee?\n",
      "\n",
      "GLOUCESTER:\n",
      "I have been the winds of the change of all the world in the contents\n",
      "To see the world of this proportion to the court,\n",
      "And so shall be provided to the first of the earth,\n",
      "And therefore shall be so much for the sight of this best service.\n",
      "\n",
      "KING RICHARD III:\n",
      "And what is the man that is the man is the matter?\n",
      "\n",
      "CORIOLANUS:\n",
      "What says the man is the matter?\n",
      "\n",
      "LADY ANNE:\n",
      "Why, then the King hath the dead man that was the state\n",
      "To see the streets of the world with the world,\n",
      "And the prophet of the way to his power to see the market-place\n",
      "Which was his arms as they are too late.\n",
      "\n",
      "CORIOLANUS:\n",
      "What is the matter?\n",
      "\n",
      "CORIOLANUS:\n",
      "The man is my country's face,\n",
      "And the best son of the common presence\n",
      "That the truth of the presence of the way to see the people,\n",
      "And with the law of the earth hath been the rest of the world,\n",
      "Which we must make a prince that hath been said\n",
      "The part of the body of the world to come to come.\n",
      "\n",
      "KING RICHARD II:\n",
      "Why, then, I will not lose the common power of the least of the world;\n",
      "And then I will not say the world the world to see the world.\n",
      "\n",
      "KING RICHARD III:\n",
      "A banish'd lord, the court of the contempt of the time,\n",
      "When the best body of the state of this dead consent,\n",
      "That they shall see the court of the dead man that do him\n",
      "And have the world in the world to be a foolish and honour of the court,\n",
      "And the which I have seen the court of the people\n",
      "And with his head and the streets of the war,\n",
      "That in the court of the sun being all the way,\n",
      "And then the children that I have been the devil to the streets\n",
      "That the property of the way to see the state of his face.\n",
      "\n",
      "CORIOLANUS:\n",
      "What says your honour?\n",
      "\n",
      "CORIOLANUS:\n",
      "What is the matter?\n",
      "\n",
      "CORIOLANUS:\n",
      "And I will do it.\n",
      "\n",
      "HENRY BOLINGBROKE:\n",
      "And I am sorry to be the man of the state of the third of the world\n",
      "In the state of the streets of the contrary.\n",
      "\n",
      "DUKE OF YORK:\n",
      "The devil was a proportion of the world.\n",
      "\n",
      "CORIOLANUS:\n",
      "I am not so long as your lordship.\n",
      "\n",
      "MENENIUS:\n",
      "I am not well.\n",
      "\n",
      "CORIOLANUS:\n",
      "The prince of this should be a service of the town,\n",
      "And by the present fair and beard of the world,\n",
      "And therefore be the streets of this fortune of the state\n",
      "To see the state of all the streets of the world,\n",
      "To see his face and the more words of the story.\n",
      "\n",
      "BRUTUS:\n",
      "What says the part of the world?\n",
      "\n",
      "GLOUCESTER:\n",
      "What shall I say?\n",
      "\n",
      "KING RICHARD III:\n",
      "Then the sun of the common world will break the state of this noble country with the charge.\n",
      "\n",
      "GLOUCESTER:\n",
      "I have not seen the state of the world the sun.\n",
      "\n",
      "CORIOLANUS:\n",
      "What is the matter?\n",
      "\n",
      "MENENIUS:\n",
      "How now, my lord?\n",
      "\n",
      "KING RICHARD III:\n",
      "And so I should be so far as you see thee hear the time,\n",
      "The sea of the state of the devil that we have seen\n",
      "The world that was the streets of the particular thing\n",
      "To the sun should be so much as the state of the common state;\n",
      "And therefore be not so strange to the common part,\n",
      "And that the streets of the sun of the storm,\n",
      "And show the morning for the world to be a conscience and the heavens\n",
      "And the single thoughts of heaven, and the state\n",
      "That we did stop the place of the way to the son\n",
      "That which he shall be better than the world that would not leave him not.\n",
      "\n",
      "MENENIUS:\n",
      "The more that we have seen the world.\n",
      "\n",
      "KING RICHARD III:\n",
      "Why, then the world is this the man that hath done thee to the contrary.\n",
      "\n",
      "CORIOLANUS:\n",
      "What is the matter?\n",
      "\n",
      "MENENIUS:\n",
      "What may you see them gone?\n",
      "\n",
      "SICINIUS:\n",
      "Ay, and your lordship's son.\n",
      "\n",
      "BUCKINGHAM:\n",
      "What would you have the proper man that they shall see the more than he\n",
      "In the world with me to be a service?\n",
      "\n",
      "KING RICHARD III:\n",
      "And so I will not be a strange prince.\n",
      "\n",
      "SICINIUS:\n",
      "The part of the princes and the law,\n",
      "And be the streets of the contrary, and the sorrow\n",
      "Shall be a soldier than the best of the world,\n",
      "And then the sun of this the state of the streets,\n",
      "That she shall have a stranger of the common tongue\n",
      "That should be as a soldier than the state\n",
      "To see the common country so much of the sun,\n",
      "And there be so best with the streets of the intent,\n",
      "And the world was the beauty that hath seen the state\n",
      "To the streets of the common sight of thee,\n",
      "And thou art a soldier to the common poor of the sun\n",
      "                                                                                                                                                                                                                                                                     England.\n",
      "\n",
      "                                     Enter CAESAR'S house\n",
      "\n",
      "Enter the KING and MARIA\n",
      "\n",
      "                                                                                                                                                                                                                                                                                                                                                                                                                                                                                                                      EROS. The world is not so much as I have seen\n",
      "    The prophet of the morning of the world.\n",
      "    And therefore I can see thee with the commons that we may see it.\n",
      "    The devil shall this day to thee and so much they may be a word.\n",
      "                                                                                                    Exeunt\n",
      "\n",
      "SCENE II.\n",
      "A street a part of the house.\n",
      "\n",
      "Enter the KING and the KING, and AUMERLE\n",
      "\n",
      "                                                                                                                                                                                                                                                                                                                                                                                                                                                       Enter PETRUCHIO, and SALISBURY\n",
      "\n",
      "  BASTARD. I will not speak to him that shall be so dear as the field,\n",
      "    And be a soldier to the state of the way.\n",
      "    The people did be so strange that he hath been so strong.\n",
      "    I will not sure to see the truth of his head.\n",
      "    The court of the contrary that hath been so sad as stars,\n",
      "    And then the world is not a soldier.\n",
      "                                                                                                                    Exeunt\n",
      "\n",
      "SCENE II.\n",
      "A room of the man that was \n"
     ]
    }
   ],
   "source": [
    "from hw3.answers import part1_generation_params\n",
    "\n",
    "start_seq, temperature = part1_generation_params()\n",
    "\n",
    "generated_sequence = charnn.generate_from_model(\n",
    "    model, start_seq, 10000, (char_to_idx,idx_to_char), T=temperature\n",
    ")\n",
    "\n",
    "print(generated_sequence)"
   ]
  },
  {
   "cell_type": "markdown",
   "metadata": {},
   "source": [
    "## Questions\n",
    "<a id=part1_9></a>"
   ]
  },
  {
   "cell_type": "markdown",
   "metadata": {},
   "source": [
    "**TODO** Answer the following questions. Write your answers in the appropriate variables in the module `hw3/answers.py`."
   ]
  },
  {
   "cell_type": "code",
   "execution_count": 30,
   "metadata": {},
   "outputs": [],
   "source": [
    "from cs236781.answers import display_answer\n",
    "import hw3.answers"
   ]
  },
  {
   "cell_type": "markdown",
   "metadata": {},
   "source": [
    "### Question 1\n",
    "Why do we split the corpus into sequences instead of training on the whole text?"
   ]
  },
  {
   "cell_type": "code",
   "execution_count": 31,
   "metadata": {},
   "outputs": [
    {
     "data": {
      "text/markdown": [
       "\n",
       "Splitting the corpus into sequences instead of training on the entire text is crucial for memory efficiency and effective learning. Processing the entire text at once would require a vast amount of memory, especially for longer texts, which may not be feasible on typical hardware. By dividing the text into smaller sequences, the model can process these chunks more easily, fitting within memory constraints and enabling batch processing. This approach also helps in stabilizing gradient updates, making the training process more reliable.\n",
       "\n",
       "Moreover, splitting the text into sequences enhances learning by allowing the model to focus on short term dependencies within each chunk. This is particularly important when using BPTT, as it allows the model to learn temporal dependencies over these sequences effectively. BPTT works well within these smaller chunks, making the optimization process more manageable and computationally feasible.\n"
      ],
      "text/plain": [
       "<IPython.core.display.Markdown object>"
      ]
     },
     "metadata": {},
     "output_type": "display_data"
    }
   ],
   "source": [
    "display_answer(hw3.answers.part1_q1)"
   ]
  },
  {
   "cell_type": "markdown",
   "metadata": {},
   "source": [
    "### Question 2\n",
    "How is it possible that the generated text clearly shows memory longer than the sequence length?"
   ]
  },
  {
   "cell_type": "code",
   "execution_count": 32,
   "metadata": {},
   "outputs": [
    {
     "data": {
      "text/markdown": [
       "\n",
       "\n",
       "The generated text can show memory longer than the sequence length because RNNs maintain a hidden state that carries information across time steps. This hidden state enables the model to retain context from previous sequences, even when the current sequence is short. Through BPTT, the model learns to use this hidden state to capture dependencies across multiple sequences, allowing it to generate text that reflects earlier parts of the corpus.\n"
      ],
      "text/plain": [
       "<IPython.core.display.Markdown object>"
      ]
     },
     "metadata": {},
     "output_type": "display_data"
    }
   ],
   "source": [
    "display_answer(hw3.answers.part1_q2)"
   ]
  },
  {
   "cell_type": "markdown",
   "metadata": {},
   "source": [
    "### Question 3\n",
    "Why are we not shuffling the order of batches when training?"
   ]
  },
  {
   "cell_type": "code",
   "execution_count": 33,
   "metadata": {},
   "outputs": [
    {
     "data": {
      "text/markdown": [
       "\n",
       "We do not shuffle the order of batches when training because maintaining the sequential order of data is crucial for RNN. This model rely on the continuity of the input data to capture temporal dependencies and maintain the context across sequences. Shuffling would disrupt this order, preventing the model from learning meaningful patterns and dependencies within the data.\n",
       "\n"
      ],
      "text/plain": [
       "<IPython.core.display.Markdown object>"
      ]
     },
     "metadata": {},
     "output_type": "display_data"
    }
   ],
   "source": [
    "display_answer(hw3.answers.part1_q3)"
   ]
  },
  {
   "cell_type": "markdown",
   "metadata": {},
   "source": [
    "### Question 4\n",
    "1. Why do we lower the temperature for sampling (compared to the default of $1.0$)?\n",
    "2. What happens when the temperature is very high and why?\n",
    "3. What happens when the temperature is very low and why?"
   ]
  },
  {
   "cell_type": "code",
   "execution_count": 34,
   "metadata": {},
   "outputs": [
    {
     "data": {
      "text/markdown": [
       "\n",
       "1. Lowering the temperature makes the model's predictions more confident by sharpening the probability distribution. It reduces the likelihood of sampling less probable outcomes, leading to more deterministic and focused text generation.\n",
       "\n",
       "2. When the temperature is very high, the probability distribution becomes more uniform, making the model more likely to sample from all possible outcomes, including those with low probability. This can result in more random and less coherent text.\n",
       "\n",
       "3. When the temperature is very low, the probability distribution becomes more peaked, making the model almost always select the most likely outcome. This can lead to repetitive and predictable text, as the model is less likely to explore diverse options\n",
       "\n",
       "\n"
      ],
      "text/plain": [
       "<IPython.core.display.Markdown object>"
      ]
     },
     "metadata": {},
     "output_type": "display_data"
    }
   ],
   "source": [
    "display_answer(hw3.answers.part1_q4)"
   ]
  }
 ],
 "metadata": {
  "kernelspec": {
   "display_name": "Python 3 (ipykernel)",
   "language": "python",
   "name": "python3"
  },
  "language_info": {
   "codemirror_mode": {
    "name": "ipython",
    "version": 3
   },
   "file_extension": ".py",
   "mimetype": "text/x-python",
   "name": "python",
   "nbconvert_exporter": "python",
   "pygments_lexer": "ipython3",
   "version": "3.8.12"
  }
 },
 "nbformat": 4,
 "nbformat_minor": 4
}
